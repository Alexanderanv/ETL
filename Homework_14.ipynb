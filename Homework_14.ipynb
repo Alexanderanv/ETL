{
 "cells": [
  {
   "cell_type": "code",
   "execution_count": 2,
   "id": "a7b23306",
   "metadata": {},
   "outputs": [],
   "source": [
    "import numpy as np\n",
    "import pandas as pd"
   ]
  },
  {
   "cell_type": "markdown",
   "id": "67187ab5",
   "metadata": {},
   "source": [
    "dataset\n",
    "https://www.kaggle.com/datasets/georgejdinicola/world-bank-indicators?select=climate_change.csv"
   ]
  },
  {
   "cell_type": "code",
   "execution_count": 3,
   "id": "b9e5ed35",
   "metadata": {},
   "outputs": [],
   "source": [
    "def _psi(expected: np.ndarray, actual: np.ndarray, bucket_type: str = \"bins\", n_bins: int = 10) -> float:\n",
    "    \"\"\"Calculate PSI metric for two arrays.\n",
    "    \n",
    "    Parameters\n",
    "    ----------\n",
    "        expected : list-like\n",
    "            Array of expected values\n",
    "        actual : list-like\n",
    "            Array of actual values\n",
    "        bucket_type : str\n",
    "            Binning strategy. Accepts two options: 'bins' and 'quantiles'. Defaults to 'bins'.\n",
    "            'bins': input arrays are splitted into bins with equal\n",
    "                and fixed steps based on 'expected' array\n",
    "            'quantiles': input arrays are binned according to 'expected' array\n",
    "                with given number of n_bins\n",
    "        n_bins : int\n",
    "            Number of buckets for binning. Defaults to 10.\n",
    "\n",
    "    Returns\n",
    "    -------\n",
    "        A single float number\n",
    "    \"\"\"\n",
    "    breakpoints = np.arange(0, n_bins + 1) / (n_bins) * 100\n",
    "    if bucket_type == \"bins\":\n",
    "        breakpoints = np.histogram(expected, n_bins)[1]\n",
    "    elif bucket_type == \"quantiles\":\n",
    "        breakpoints = np.percentile(expected, breakpoints)\n",
    "\n",
    "    # Calculate frequencies\n",
    "    expected_percents = np.histogram(expected, breakpoints)[0] / len(expected)\n",
    "    actual_percents = np.histogram(actual, breakpoints)[0] / len(actual)\n",
    "    # Clip freaquencies to avoid zero division\n",
    "    expected_percents = np.clip(expected_percents, a_min=0.0001, a_max=None)\n",
    "    actual_percents = np.clip(actual_percents, a_min=0.0001, a_max=None)\n",
    "    # Calculate PSI\n",
    "    psi_value = (expected_percents - actual_percents) * np.log(expected_percents / actual_percents)\n",
    "    psi_value = sum(psi_value)\n",
    "\n",
    "    return psi_value\n",
    "\n",
    "\n",
    "def calculate_psi(\n",
    "        expected: np.ndarray, actual: np.ndarray, bucket_type: str = \"bins\", n_bins: int = 10, axis: int = 0\n",
    ") -> np.ndarray:\n",
    "    \"\"\"Apply PSI calculation to 2 1-d or 2-d arrays.\n",
    "\n",
    "    Parameters\n",
    "    ----------\n",
    "    expected : list-like\n",
    "        Array of expected values\n",
    "    actual : list-like\n",
    "        Array of actual values\n",
    "    bucket_type : str\n",
    "        Binning strategy. Accepts two options: 'bins' and 'quantiles'. Defaults to 'bins'.\n",
    "            'bins' - input arrays are splitted into bins with equal\n",
    "                and fixed steps based on ’expected' array\n",
    "            'quantiles' - input arrays are binned according to ’expected’ array\n",
    "                with given number of n_bins\n",
    "    n_bins : int\n",
    "        Number of buckets for binning. Defaults to 10.\n",
    "\n",
    "    Returns\n",
    "    -------\n",
    "        np.ndarray\n",
    "    \"\"\"\n",
    "    if len(expected.shape) == 1:\n",
    "        psi_values = np.empty(len(expected.shape))\n",
    "    else:\n",
    "        psi_values = np.empty(expected.shape[axis])\n",
    "\n",
    "    for i in range(0, len(psi_values)):\n",
    "        if len(psi_values) == 1:\n",
    "            psi_values = _psi(expected, actual, bucket_type, n_bins)\n",
    "        elif axis == 0:\n",
    "            psi_values[i] = _psi(expected[:, i], actual[:, i], bucket_type, n_bins)\n",
    "        elif axis == 1:\n",
    "            psi_values[i] = _psi(expected[i, :], actual[i, :], bucket_type, n_bins)\n",
    "        return np.array(psi_values)"
   ]
  },
  {
   "cell_type": "code",
   "execution_count": 21,
   "id": "b6ff3e15",
   "metadata": {},
   "outputs": [],
   "source": [
    "df = pd.read_csv(\"climate_change.csv\", low_memory=False)"
   ]
  },
  {
   "cell_type": "code",
   "execution_count": 37,
   "id": "d7843494",
   "metadata": {},
   "outputs": [],
   "source": [
    "df_expected = df[df['year']==1999]['Population, total']"
   ]
  },
  {
   "cell_type": "code",
   "execution_count": 23,
   "id": "3d5897ad",
   "metadata": {},
   "outputs": [
    {
     "data": {
      "text/plain": [
       "count    2.600000e+02\n",
       "mean     1.718644e+08\n",
       "std      5.639297e+08\n",
       "min      8.798000e+03\n",
       "25%      9.812178e+05\n",
       "50%      6.784980e+06\n",
       "75%      3.910480e+07\n",
       "max      4.330690e+09\n",
       "Name: Population, total, dtype: float64"
      ]
     },
     "execution_count": 23,
     "metadata": {},
     "output_type": "execute_result"
    }
   ],
   "source": [
    "df_expected.describe()"
   ]
  },
  {
   "cell_type": "code",
   "execution_count": 39,
   "id": "b566a914",
   "metadata": {},
   "outputs": [],
   "source": [
    "df_actual = df[df['year']==2000]['Population, total']\n",
    "df_actual_1 = df[df['year']==2020]['Population, total']"
   ]
  },
  {
   "cell_type": "code",
   "execution_count": 38,
   "id": "bb2ca474",
   "metadata": {},
   "outputs": [
    {
     "data": {
      "text/plain": [
       "array(0.00308758)"
      ]
     },
     "execution_count": 38,
     "metadata": {},
     "output_type": "execute_result"
    }
   ],
   "source": [
    "calculate_psi(df_expected, df_actual, bucket_type='bins', n_bins=10, axis=0)"
   ]
  },
  {
   "cell_type": "code",
   "execution_count": 40,
   "id": "8c1befc5",
   "metadata": {},
   "outputs": [
    {
     "data": {
      "text/plain": [
       "array(0.04869522)"
      ]
     },
     "execution_count": 40,
     "metadata": {},
     "output_type": "execute_result"
    }
   ],
   "source": [
    "calculate_psi(df_expected, df_actual_1, bucket_type='bins', n_bins=10, axis=0)"
   ]
  }
 ],
 "metadata": {
  "kernelspec": {
   "display_name": "venv",
   "language": "python",
   "name": "python3"
  },
  "language_info": {
   "codemirror_mode": {
    "name": "ipython",
    "version": 3
   },
   "file_extension": ".py",
   "mimetype": "text/x-python",
   "name": "python",
   "nbconvert_exporter": "python",
   "pygments_lexer": "ipython3",
   "version": "3.12.3"
  }
 },
 "nbformat": 4,
 "nbformat_minor": 5
}
